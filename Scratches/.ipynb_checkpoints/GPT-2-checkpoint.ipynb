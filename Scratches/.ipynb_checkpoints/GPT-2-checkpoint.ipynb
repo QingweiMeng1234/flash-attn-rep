{
 "cells": [
  {
   "cell_type": "code",
   "execution_count": 2,
   "id": "6d83b04c-e720-4367-884e-0d6a75da1c68",
   "metadata": {},
   "outputs": [],
   "source": [
    "# from transformers import GPT2Config, GPT2LMHeadModel, GPT2Tokenizer\n",
    "# import torch\n",
    "# from torch.utils.data import DataLoader, Dataset\n",
    "# from glob import glob\n",
    "# import os\n",
    "# from tqdm import tqdm\n",
    "# import time\n",
    "\n",
    "# # Initialize the tokenizer\n",
    "# tokenizer = GPT2Tokenizer.from_pretrained('gpt2')\n",
    "\n",
    "# # Retrieve and print the correct vocabulary size from the tokenizer\n",
    "# correct_vocab_size = tokenizer.vocab_size\n",
    "\n",
    "# # Update your GPT2 configuration with the correct vocabulary size\n",
    "# config = GPT2Config(\n",
    "#     vocab_size=correct_vocab_size,  # Updated size\n",
    "#     n_positions=1024,\n",
    "#     n_ctx=1024,\n",
    "#     n_embd=768,\n",
    "#     n_layer=12,\n",
    "#     n_head=12\n",
    "# )\n",
    "\n",
    "# # Initialize the model with the updated configuration\n",
    "# model = GPT2LMHeadModel(config)\n",
    "\n",
    "# # Define your TextFolderDataset\n",
    "# class TextFolderDataset(Dataset):\n",
    "#     def __init__(self, file_directory, file_pattern, max_length):\n",
    "#         self.filepaths = glob(os.path.join(file_directory, file_pattern))\n",
    "#         self.tokenizer = GPT2Tokenizer.from_pretrained('gpt2')\n",
    "#         self.tokenizer.pad_token = self.tokenizer.eos_token  # Set pad_token\n",
    "#         self.max_length = max_length\n",
    "\n",
    "#     def __len__(self):\n",
    "#         return len(self.filepaths)\n",
    "\n",
    "#     def __getitem__(self, idx):\n",
    "#         with open(self.filepaths[idx], 'r', encoding='utf-8') as file:\n",
    "#             text = file.read()\n",
    "\n",
    "#         encoding = self.tokenizer.encode_plus(\n",
    "#             text,\n",
    "#             add_special_tokens=True, \n",
    "#             max_length=self.max_length, \n",
    "#             truncation=True, \n",
    "#             padding='max_length', \n",
    "#             return_tensors='pt'\n",
    "#         )\n",
    "\n",
    "#         input_ids = encoding['input_ids'][0]\n",
    "#         attention_mask = encoding['attention_mask'][0]\n",
    "#         labels = input_ids.clone()\n",
    "\n",
    "#         return {\n",
    "#             'input_ids': input_ids,\n",
    "#             'attention_mask': attention_mask,\n",
    "#             'labels': labels\n",
    "#         }\n",
    "\n",
    "# # Create your dataset and data loader\n",
    "# file_directory = \"openwebtext/\"\n",
    "# file_pattern = \"urlsf_subset01-32*\"\n",
    "# max_length = 512\n",
    "# dataset = TextFolderDataset(file_directory, file_pattern, max_length)\n",
    "# train_dataloader = DataLoader(dataset, batch_size=4, shuffle=True)\n",
    "\n",
    "# # Training Loop\n",
    "# from transformers import AdamW\n",
    "# from tqdm import tqdm\n",
    "\n",
    "# optimizer = AdamW(model.parameters(), lr=5e-5)\n",
    "# accumulation_steps = 2\n",
    "# num_epochs = 10\n",
    "\n",
    "# start_time = time.time()\n",
    "\n",
    "# for epoch in range(tqdm(num_epochs)):\n",
    "#     total_loss = 0\n",
    "#     optimizer.zero_grad()\n",
    "#     for step, batch in enumerate(train_dataloader):\n",
    "#         inputs = batch['input_ids']\n",
    "#         labels = batch['labels']\n",
    "#         outputs = model(inputs, labels=labels)\n",
    "#         loss = outputs.loss\n",
    "\n",
    "#         loss = loss / accumulation_steps\n",
    "#         loss.backward()\n",
    "\n",
    "#         if (step + 1) % accumulation_steps == 0:\n",
    "#             optimizer.step()\n",
    "#             optimizer.zero_grad()\n",
    "\n",
    "#         total_loss += loss.item()\n",
    "    \n",
    "#     avg_loss = total_loss / (len(train_dataloader) / accumulation_steps)\n",
    "#     print(f\"Epoch {epoch+1}/{num_epochs}, Average Loss: {avg_loss:.4f}\")\n",
    "\n",
    "# end_time = time.time()\n",
    "# print(f\"The time needed for training is {end_time - start_time}\")"
   ]
  },
  {
   "cell_type": "code",
   "execution_count": 1,
   "id": "117394e0-768b-45dc-b208-48f6c9c71dc9",
   "metadata": {},
   "outputs": [
    {
     "name": "stderr",
     "output_type": "stream",
     "text": [
      "/home/m/.local/lib/python3.10/site-packages/tqdm/auto.py:21: TqdmWarning: IProgress not found. Please update jupyter and ipywidgets. See https://ipywidgets.readthedocs.io/en/stable/user_install.html\n",
      "  from .autonotebook import tqdm as notebook_tqdm\n"
     ]
    },
    {
     "name": "stdout",
     "output_type": "stream",
     "text": [
      "Using device: cuda\n"
     ]
    },
    {
     "name": "stderr",
     "output_type": "stream",
     "text": [
      "/home/m/.local/lib/python3.10/site-packages/transformers/optimization.py:429: FutureWarning: This implementation of AdamW is deprecated and will be removed in a future version. Use the PyTorch implementation torch.optim.AdamW instead, or set `no_deprecation_warning=True` to disable this warning\n",
      "  warnings.warn(\n",
      "  2%|█▋                                                                                  | 1/50 [00:26<21:23, 26.20s/it]"
     ]
    },
    {
     "name": "stdout",
     "output_type": "stream",
     "text": [
      "Epoch 1/50, Average Loss: 5.9198\n"
     ]
    },
    {
     "name": "stderr",
     "output_type": "stream",
     "text": [
      "  4%|███▎                                                                                | 2/50 [00:48<19:20, 24.18s/it]"
     ]
    },
    {
     "name": "stdout",
     "output_type": "stream",
     "text": [
      "Epoch 2/50, Average Loss: 2.9534\n"
     ]
    },
    {
     "name": "stderr",
     "output_type": "stream",
     "text": [
      "  6%|█████                                                                               | 3/50 [01:11<18:24, 23.51s/it]"
     ]
    },
    {
     "name": "stdout",
     "output_type": "stream",
     "text": [
      "Epoch 3/50, Average Loss: 2.8821\n"
     ]
    },
    {
     "name": "stderr",
     "output_type": "stream",
     "text": [
      "  8%|██████▋                                                                             | 4/50 [01:34<17:50, 23.26s/it]"
     ]
    },
    {
     "name": "stdout",
     "output_type": "stream",
     "text": [
      "Epoch 4/50, Average Loss: 2.8183\n"
     ]
    },
    {
     "name": "stderr",
     "output_type": "stream",
     "text": [
      " 10%|████████▍                                                                           | 5/50 [01:57<17:17, 23.06s/it]"
     ]
    },
    {
     "name": "stdout",
     "output_type": "stream",
     "text": [
      "Epoch 5/50, Average Loss: 2.7591\n"
     ]
    },
    {
     "name": "stderr",
     "output_type": "stream",
     "text": [
      " 12%|██████████                                                                          | 6/50 [02:20<16:52, 23.01s/it]"
     ]
    },
    {
     "name": "stdout",
     "output_type": "stream",
     "text": [
      "Epoch 6/50, Average Loss: 2.7092\n"
     ]
    },
    {
     "name": "stderr",
     "output_type": "stream",
     "text": [
      " 14%|███████████▊                                                                        | 7/50 [02:43<16:32, 23.07s/it]"
     ]
    },
    {
     "name": "stdout",
     "output_type": "stream",
     "text": [
      "Epoch 7/50, Average Loss: 2.6508\n"
     ]
    },
    {
     "name": "stderr",
     "output_type": "stream",
     "text": [
      " 16%|█████████████▍                                                                      | 8/50 [03:06<16:08, 23.05s/it]"
     ]
    },
    {
     "name": "stdout",
     "output_type": "stream",
     "text": [
      "Epoch 8/50, Average Loss: 2.6099\n"
     ]
    },
    {
     "name": "stderr",
     "output_type": "stream",
     "text": [
      " 18%|███████████████                                                                     | 9/50 [03:29<15:44, 23.03s/it]"
     ]
    },
    {
     "name": "stdout",
     "output_type": "stream",
     "text": [
      "Epoch 9/50, Average Loss: 2.5546\n"
     ]
    },
    {
     "name": "stderr",
     "output_type": "stream",
     "text": [
      " 20%|████████████████▌                                                                  | 10/50 [03:52<15:20, 23.02s/it]"
     ]
    },
    {
     "name": "stdout",
     "output_type": "stream",
     "text": [
      "Epoch 10/50, Average Loss: 2.5002\n"
     ]
    },
    {
     "name": "stderr",
     "output_type": "stream",
     "text": [
      " 22%|██████████████████▎                                                                | 11/50 [04:15<14:54, 22.94s/it]"
     ]
    },
    {
     "name": "stdout",
     "output_type": "stream",
     "text": [
      "Epoch 11/50, Average Loss: 2.4358\n"
     ]
    },
    {
     "name": "stderr",
     "output_type": "stream",
     "text": [
      " 24%|███████████████████▉                                                               | 12/50 [04:37<14:28, 22.85s/it]"
     ]
    },
    {
     "name": "stdout",
     "output_type": "stream",
     "text": [
      "Epoch 12/50, Average Loss: 2.3464\n"
     ]
    },
    {
     "name": "stderr",
     "output_type": "stream",
     "text": [
      " 26%|█████████████████████▌                                                             | 13/50 [05:00<14:06, 22.89s/it]"
     ]
    },
    {
     "name": "stdout",
     "output_type": "stream",
     "text": [
      "Epoch 13/50, Average Loss: 2.2394\n"
     ]
    },
    {
     "name": "stderr",
     "output_type": "stream",
     "text": [
      " 28%|███████████████████████▏                                                           | 14/50 [05:23<13:42, 22.86s/it]"
     ]
    },
    {
     "name": "stdout",
     "output_type": "stream",
     "text": [
      "Epoch 14/50, Average Loss: 2.2473\n"
     ]
    },
    {
     "name": "stderr",
     "output_type": "stream",
     "text": [
      " 30%|████████████████████████▉                                                          | 15/50 [05:46<13:16, 22.76s/it]"
     ]
    },
    {
     "name": "stdout",
     "output_type": "stream",
     "text": [
      "Epoch 15/50, Average Loss: 2.1698\n"
     ]
    },
    {
     "name": "stderr",
     "output_type": "stream",
     "text": [
      " 32%|██████████████████████████▌                                                        | 16/50 [06:09<12:57, 22.87s/it]"
     ]
    },
    {
     "name": "stdout",
     "output_type": "stream",
     "text": [
      "Epoch 16/50, Average Loss: 2.1125\n"
     ]
    },
    {
     "name": "stderr",
     "output_type": "stream",
     "text": [
      " 34%|████████████████████████████▏                                                      | 17/50 [06:31<12:33, 22.85s/it]"
     ]
    },
    {
     "name": "stdout",
     "output_type": "stream",
     "text": [
      "Epoch 17/50, Average Loss: 2.0875\n"
     ]
    },
    {
     "name": "stderr",
     "output_type": "stream",
     "text": [
      " 36%|█████████████████████████████▉                                                     | 18/50 [06:54<12:11, 22.87s/it]"
     ]
    },
    {
     "name": "stdout",
     "output_type": "stream",
     "text": [
      "Epoch 18/50, Average Loss: 2.0462\n"
     ]
    },
    {
     "name": "stderr",
     "output_type": "stream",
     "text": [
      " 38%|███████████████████████████████▌                                                   | 19/50 [07:17<11:49, 22.89s/it]"
     ]
    },
    {
     "name": "stdout",
     "output_type": "stream",
     "text": [
      "Epoch 19/50, Average Loss: 2.0101\n"
     ]
    },
    {
     "name": "stderr",
     "output_type": "stream",
     "text": [
      " 40%|█████████████████████████████████▏                                                 | 20/50 [07:40<11:27, 22.92s/it]"
     ]
    },
    {
     "name": "stdout",
     "output_type": "stream",
     "text": [
      "Epoch 20/50, Average Loss: 1.9825\n"
     ]
    },
    {
     "name": "stderr",
     "output_type": "stream",
     "text": [
      " 42%|██████████████████████████████████▊                                                | 21/50 [08:04<11:08, 23.05s/it]"
     ]
    },
    {
     "name": "stdout",
     "output_type": "stream",
     "text": [
      "Epoch 21/50, Average Loss: 1.9551\n"
     ]
    },
    {
     "name": "stderr",
     "output_type": "stream",
     "text": [
      " 44%|████████████████████████████████████▌                                              | 22/50 [08:27<10:47, 23.11s/it]"
     ]
    },
    {
     "name": "stdout",
     "output_type": "stream",
     "text": [
      "Epoch 22/50, Average Loss: 1.9291\n"
     ]
    },
    {
     "name": "stderr",
     "output_type": "stream",
     "text": [
      " 46%|██████████████████████████████████████▏                                            | 23/50 [08:50<10:22, 23.07s/it]"
     ]
    },
    {
     "name": "stdout",
     "output_type": "stream",
     "text": [
      "Epoch 23/50, Average Loss: 1.8969\n"
     ]
    },
    {
     "name": "stderr",
     "output_type": "stream",
     "text": [
      " 48%|███████████████████████████████████████▊                                           | 24/50 [09:13<09:59, 23.07s/it]"
     ]
    },
    {
     "name": "stdout",
     "output_type": "stream",
     "text": [
      "Epoch 24/50, Average Loss: 1.8754\n"
     ]
    },
    {
     "name": "stderr",
     "output_type": "stream",
     "text": [
      " 50%|█████████████████████████████████████████▌                                         | 25/50 [09:36<09:36, 23.07s/it]"
     ]
    },
    {
     "name": "stdout",
     "output_type": "stream",
     "text": [
      "Epoch 25/50, Average Loss: 1.8461\n"
     ]
    },
    {
     "name": "stderr",
     "output_type": "stream",
     "text": [
      " 52%|███████████████████████████████████████████▏                                       | 26/50 [09:59<09:12, 23.02s/it]"
     ]
    },
    {
     "name": "stdout",
     "output_type": "stream",
     "text": [
      "Epoch 26/50, Average Loss: 1.8243\n"
     ]
    },
    {
     "name": "stderr",
     "output_type": "stream",
     "text": [
      " 54%|████████████████████████████████████████████▊                                      | 27/50 [10:22<08:49, 23.01s/it]"
     ]
    },
    {
     "name": "stdout",
     "output_type": "stream",
     "text": [
      "Epoch 27/50, Average Loss: 1.8013\n"
     ]
    },
    {
     "name": "stderr",
     "output_type": "stream",
     "text": [
      " 56%|██████████████████████████████████████████████▍                                    | 28/50 [10:45<08:25, 22.96s/it]"
     ]
    },
    {
     "name": "stdout",
     "output_type": "stream",
     "text": [
      "Epoch 28/50, Average Loss: 1.7788\n"
     ]
    },
    {
     "name": "stderr",
     "output_type": "stream",
     "text": [
      " 58%|████████████████████████████████████████████████▏                                  | 29/50 [11:08<08:02, 22.98s/it]"
     ]
    },
    {
     "name": "stdout",
     "output_type": "stream",
     "text": [
      "Epoch 29/50, Average Loss: 1.7579\n"
     ]
    },
    {
     "name": "stderr",
     "output_type": "stream",
     "text": [
      " 60%|█████████████████████████████████████████████████▊                                 | 30/50 [11:31<07:39, 22.96s/it]"
     ]
    },
    {
     "name": "stdout",
     "output_type": "stream",
     "text": [
      "Epoch 30/50, Average Loss: 1.7373\n"
     ]
    },
    {
     "name": "stderr",
     "output_type": "stream",
     "text": [
      " 62%|███████████████████████████████████████████████████▍                               | 31/50 [11:54<07:16, 23.00s/it]"
     ]
    },
    {
     "name": "stdout",
     "output_type": "stream",
     "text": [
      "Epoch 31/50, Average Loss: 1.7169\n"
     ]
    },
    {
     "name": "stderr",
     "output_type": "stream",
     "text": [
      " 64%|█████████████████████████████████████████████████████                              | 32/50 [12:17<06:54, 23.03s/it]"
     ]
    },
    {
     "name": "stdout",
     "output_type": "stream",
     "text": [
      "Epoch 32/50, Average Loss: 1.6976\n"
     ]
    },
    {
     "name": "stderr",
     "output_type": "stream",
     "text": [
      " 66%|██████████████████████████████████████████████████████▊                            | 33/50 [12:40<06:30, 22.96s/it]"
     ]
    },
    {
     "name": "stdout",
     "output_type": "stream",
     "text": [
      "Epoch 33/50, Average Loss: 1.6797\n"
     ]
    },
    {
     "name": "stderr",
     "output_type": "stream",
     "text": [
      " 68%|████████████████████████████████████████████████████████▍                          | 34/50 [13:03<06:07, 22.94s/it]"
     ]
    },
    {
     "name": "stdout",
     "output_type": "stream",
     "text": [
      "Epoch 34/50, Average Loss: 1.6573\n"
     ]
    },
    {
     "name": "stderr",
     "output_type": "stream",
     "text": [
      " 70%|██████████████████████████████████████████████████████████                         | 35/50 [13:26<05:44, 22.97s/it]"
     ]
    },
    {
     "name": "stdout",
     "output_type": "stream",
     "text": [
      "Epoch 35/50, Average Loss: 1.6408\n"
     ]
    },
    {
     "name": "stderr",
     "output_type": "stream",
     "text": [
      " 72%|███████████████████████████████████████████████████████████▊                       | 36/50 [13:48<05:20, 22.92s/it]"
     ]
    },
    {
     "name": "stdout",
     "output_type": "stream",
     "text": [
      "Epoch 36/50, Average Loss: 1.6234\n"
     ]
    },
    {
     "name": "stderr",
     "output_type": "stream",
     "text": [
      " 74%|█████████████████████████████████████████████████████████████▍                     | 37/50 [14:11<04:58, 22.95s/it]"
     ]
    },
    {
     "name": "stdout",
     "output_type": "stream",
     "text": [
      "Epoch 37/50, Average Loss: 1.6079\n"
     ]
    },
    {
     "name": "stderr",
     "output_type": "stream",
     "text": [
      " 76%|███████████████████████████████████████████████████████████████                    | 38/50 [14:35<04:35, 22.99s/it]"
     ]
    },
    {
     "name": "stdout",
     "output_type": "stream",
     "text": [
      "Epoch 38/50, Average Loss: 1.5859\n"
     ]
    },
    {
     "name": "stderr",
     "output_type": "stream",
     "text": [
      " 78%|████████████████████████████████████████████████████████████████▋                  | 39/50 [14:57<04:12, 22.92s/it]"
     ]
    },
    {
     "name": "stdout",
     "output_type": "stream",
     "text": [
      "Epoch 39/50, Average Loss: 1.5707\n"
     ]
    },
    {
     "name": "stderr",
     "output_type": "stream",
     "text": [
      " 80%|██████████████████████████████████████████████████████████████████▍                | 40/50 [15:20<03:49, 22.91s/it]"
     ]
    },
    {
     "name": "stdout",
     "output_type": "stream",
     "text": [
      "Epoch 40/50, Average Loss: 1.5580\n"
     ]
    },
    {
     "name": "stderr",
     "output_type": "stream",
     "text": [
      " 82%|████████████████████████████████████████████████████████████████████               | 41/50 [15:43<03:26, 22.92s/it]"
     ]
    },
    {
     "name": "stdout",
     "output_type": "stream",
     "text": [
      "Epoch 41/50, Average Loss: 1.5363\n"
     ]
    },
    {
     "name": "stderr",
     "output_type": "stream",
     "text": [
      " 84%|█████████████████████████████████████████████████████████████████████▋             | 42/50 [16:06<03:03, 22.99s/it]"
     ]
    },
    {
     "name": "stdout",
     "output_type": "stream",
     "text": [
      "Epoch 42/50, Average Loss: 1.5203\n"
     ]
    },
    {
     "name": "stderr",
     "output_type": "stream",
     "text": [
      " 86%|███████████████████████████████████████████████████████████████████████▍           | 43/50 [16:29<02:40, 22.99s/it]"
     ]
    },
    {
     "name": "stdout",
     "output_type": "stream",
     "text": [
      "Epoch 43/50, Average Loss: 1.5094\n"
     ]
    },
    {
     "name": "stderr",
     "output_type": "stream",
     "text": [
      " 88%|█████████████████████████████████████████████████████████████████████████          | 44/50 [16:52<02:17, 22.96s/it]"
     ]
    },
    {
     "name": "stdout",
     "output_type": "stream",
     "text": [
      "Epoch 44/50, Average Loss: 1.4916\n"
     ]
    },
    {
     "name": "stderr",
     "output_type": "stream",
     "text": [
      " 90%|██████████████████████████████████████████████████████████████████████████▋        | 45/50 [17:15<01:54, 22.98s/it]"
     ]
    },
    {
     "name": "stdout",
     "output_type": "stream",
     "text": [
      "Epoch 45/50, Average Loss: 1.4781\n"
     ]
    },
    {
     "name": "stderr",
     "output_type": "stream",
     "text": [
      " 92%|████████████████████████████████████████████████████████████████████████████▎      | 46/50 [17:38<01:31, 22.94s/it]"
     ]
    },
    {
     "name": "stdout",
     "output_type": "stream",
     "text": [
      "Epoch 46/50, Average Loss: 1.4580\n"
     ]
    },
    {
     "name": "stderr",
     "output_type": "stream",
     "text": [
      " 94%|██████████████████████████████████████████████████████████████████████████████     | 47/50 [18:01<01:08, 22.88s/it]"
     ]
    },
    {
     "name": "stdout",
     "output_type": "stream",
     "text": [
      "Epoch 47/50, Average Loss: 1.4490\n"
     ]
    },
    {
     "name": "stderr",
     "output_type": "stream",
     "text": [
      " 96%|███████████████████████████████████████████████████████████████████████████████▋   | 48/50 [18:23<00:45, 22.69s/it]"
     ]
    },
    {
     "name": "stdout",
     "output_type": "stream",
     "text": [
      "Epoch 48/50, Average Loss: 1.4349\n"
     ]
    },
    {
     "name": "stderr",
     "output_type": "stream",
     "text": [
      " 98%|█████████████████████████████████████████████████████████████████████████████████▎ | 49/50 [18:45<00:22, 22.57s/it]"
     ]
    },
    {
     "name": "stdout",
     "output_type": "stream",
     "text": [
      "Epoch 49/50, Average Loss: 1.4168\n"
     ]
    },
    {
     "name": "stderr",
     "output_type": "stream",
     "text": [
      "100%|███████████████████████████████████████████████████████████████████████████████████| 50/50 [19:07<00:00, 22.96s/it]"
     ]
    },
    {
     "name": "stdout",
     "output_type": "stream",
     "text": [
      "Epoch 50/50, Average Loss: 1.4053\n",
      "The time needed for training is 1147.9099595546722 seconds.\n"
     ]
    },
    {
     "name": "stderr",
     "output_type": "stream",
     "text": [
      "\n"
     ]
    }
   ],
   "source": [
    "from transformers import GPT2Config, GPT2LMHeadModel, GPT2Tokenizer\n",
    "import torch\n",
    "from torch.utils.data import DataLoader, Dataset\n",
    "from glob import glob\n",
    "import os\n",
    "from tqdm import tqdm\n",
    "import time\n",
    "\n",
    "torch.manual_seed(0)\n",
    "# Initialize the tokenizer\n",
    "tokenizer = GPT2Tokenizer.from_pretrained('gpt2')\n",
    "\n",
    "# Retrieve the correct vocabulary size from the tokenizer\n",
    "correct_vocab_size = tokenizer.vocab_size\n",
    "\n",
    "# Update your GPT2 configuration with the correct vocabulary size\n",
    "config = GPT2Config(\n",
    "    vocab_size=correct_vocab_size,  # Updated size\n",
    "    n_positions=1024,\n",
    "    n_ctx=1024,\n",
    "    n_embd=768,\n",
    "    n_layer=12,\n",
    "    n_head=12\n",
    ")\n",
    "\n",
    "# Initialize the model with the updated configuration\n",
    "model = GPT2LMHeadModel(config)\n",
    "\n",
    "# Check for CUDA GPU availability\n",
    "device = torch.device(\"cuda\" if torch.cuda.is_available() else \"cpu\")\n",
    "print(f\"Using device: {device}\")\n",
    "\n",
    "# Transfer the model to the GPU (if available)\n",
    "model.to(device)\n",
    "\n",
    "# Define your TextFolderDataset\n",
    "# Define your TextFolderDataset\n",
    "class TextFolderDataset(Dataset):\n",
    "    def __init__(self, file_directory, file_pattern, max_length):\n",
    "        self.filepaths = glob(os.path.join(file_directory, file_pattern))\n",
    "        self.tokenizer = GPT2Tokenizer.from_pretrained('gpt2')\n",
    "        self.tokenizer.pad_token = self.tokenizer.eos_token  # Set pad_token\n",
    "        self.max_length = max_length\n",
    "\n",
    "    def __len__(self):\n",
    "        return len(self.filepaths)\n",
    "\n",
    "    def __getitem__(self, idx):\n",
    "        with open(self.filepaths[idx], 'r', encoding='utf-8') as file:\n",
    "            text = file.read()\n",
    "\n",
    "        encoding = self.tokenizer.encode_plus(\n",
    "            text,\n",
    "            add_special_tokens=True, \n",
    "            max_length=self.max_length, \n",
    "            truncation=True, \n",
    "            padding='max_length', \n",
    "            return_tensors='pt'\n",
    "        )\n",
    "\n",
    "        input_ids = encoding['input_ids'][0]\n",
    "        attention_mask = encoding['attention_mask'][0]\n",
    "        labels = input_ids.clone()\n",
    "\n",
    "        return {\n",
    "            'input_ids': input_ids,\n",
    "            'attention_mask': attention_mask,\n",
    "            'labels': labels\n",
    "        }\n",
    "\n",
    "# Create your dataset and data loader\n",
    "file_directory = \"openwebtext/\"\n",
    "file_pattern = \"urlsf_subset01-3[2,3]*\"\n",
    "max_length = 512\n",
    "dataset = TextFolderDataset(file_directory, file_pattern, max_length)\n",
    "train_dataloader = DataLoader(dataset, batch_size=4, shuffle=True)\n",
    "\n",
    "# Training Loop\n",
    "from transformers import AdamW\n",
    "from tqdm import tqdm\n",
    "\n",
    "optimizer = AdamW(model.parameters(), lr=5e-5)\n",
    "accumulation_steps = 2\n",
    "num_epochs = 50\n",
    "\n",
    "start_time = time.time()\n",
    "\n",
    "for epoch in tqdm(range(num_epochs)):\n",
    "    total_loss = 0\n",
    "    optimizer.zero_grad()\n",
    "    for step, batch in enumerate(train_dataloader):\n",
    "        # Transfer the data to the GPU\n",
    "        inputs = batch['input_ids'].to(device)\n",
    "        labels = batch['labels'].to(device)\n",
    "\n",
    "        # Forward pass\n",
    "        outputs = model(inputs, labels=labels)\n",
    "        loss = outputs.loss\n",
    "\n",
    "        # Normalize loss to account for accumulation\n",
    "        loss = loss / accumulation_steps\n",
    "        loss.backward()\n",
    "\n",
    "        if (step + 1) % accumulation_steps == 0:\n",
    "            optimizer.step()\n",
    "            optimizer.zero_grad()\n",
    "\n",
    "        total_loss += loss.item()\n",
    "    \n",
    "    avg_loss = total_loss / (len(train_dataloader) / accumulation_steps)\n",
    "    print(f\"Epoch {epoch+1}/{num_epochs}, Average Loss: {avg_loss:.4f}\")\n",
    "    if avg_loss < 1.5:\n",
    "        break\n",
    "\n",
    "end_time = time.time()\n",
    "print(f\"The time needed for training is {end_time - start_time} seconds.\")\n"
   ]
  },
  {
   "cell_type": "code",
   "execution_count": null,
   "id": "1ededa2a-55af-497b-855d-8a42a1381c81",
   "metadata": {},
   "outputs": [],
   "source": []
  }
 ],
 "metadata": {
  "kernelspec": {
   "display_name": "Python 3 (ipykernel)",
   "language": "python",
   "name": "python3"
  },
  "language_info": {
   "codemirror_mode": {
    "name": "ipython",
    "version": 3
   },
   "file_extension": ".py",
   "mimetype": "text/x-python",
   "name": "python",
   "nbconvert_exporter": "python",
   "pygments_lexer": "ipython3",
   "version": "3.10.12"
  }
 },
 "nbformat": 4,
 "nbformat_minor": 5
}
